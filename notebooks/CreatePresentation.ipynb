{
 "cells": [
  {
   "cell_type": "code",
   "execution_count": 1,
   "metadata": {},
   "outputs": [],
   "source": [
    "# create powerpoint presentation from a list of images and text\n",
    "\n",
    "from pathlib import Path\n",
    "from pptx import Presentation\n",
    "from pptx.util import Inches\n",
    "\n"
   ]
  },
  {
   "cell_type": "code",
   "execution_count": 3,
   "metadata": {},
   "outputs": [
    {
     "data": {
      "text/plain": [
       "[WindowsPath('../img/presentation/data_science.png'),\n",
       " WindowsPath('../img/presentation/detective.postprocessed.png'),\n",
       " WindowsPath('../img/presentation/excavator.postprocessed.png'),\n",
       " WindowsPath('../img/presentation/runners.png'),\n",
       " WindowsPath('../img/presentation/traffic_jam.png')]"
      ]
     },
     "execution_count": 3,
     "metadata": {},
     "output_type": "execute_result"
    }
   ],
   "source": [
    "# read images from a folder\n",
    "def read_images(folder):\n",
    "    images = []\n",
    "    for file in Path(folder).iterdir():\n",
    "        if file.suffix in ['.jpg', '.png']:\n",
    "            images.append(file)\n",
    "    return images\n",
    "\n",
    "image_files = read_images('../img/presentation')\n",
    "image_files"
   ]
  },
  {
   "cell_type": "code",
   "execution_count": 4,
   "metadata": {},
   "outputs": [],
   "source": [
    "data_science = \"\"\"\n",
    "Data science: a field that uses techniques from statistics, computer science, and domain expertise to extract insights and knowledge from data.\n",
    "The process includes:\n",
    "Collecting data\n",
    "Cleaning and preparing the data\n",
    "Analyzing the data\n",
    "Using the insights gained to make decisions or predictions\n",
    "Applications:\n",
    "Predicting product preferences using data from social media\n",
    "Forecasting the likelihood of severe storms using data from weather sensors.\n",
    "\"\"\""
   ]
  },
  {
   "cell_type": "code",
   "execution_count": null,
   "metadata": {},
   "outputs": [],
   "source": [
    "detective = \"\"\"Data science can be thought of as similar to solving a mystery, finding meaning and using the information to make decisions or predictions\"\"\"\n"
   ]
  }
 ],
 "metadata": {
  "kernelspec": {
   "display_name": "venv",
   "language": "python",
   "name": "python3"
  },
  "language_info": {
   "codemirror_mode": {
    "name": "ipython",
    "version": 3
   },
   "file_extension": ".py",
   "mimetype": "text/x-python",
   "name": "python",
   "nbconvert_exporter": "python",
   "pygments_lexer": "ipython3",
   "version": "3.10.6"
  },
  "orig_nbformat": 4,
  "vscode": {
   "interpreter": {
    "hash": "157d2ffe86b6f0e16d90755612735ec47662b2d6b2aa28772fc5779953e4d467"
   }
  }
 },
 "nbformat": 4,
 "nbformat_minor": 2
}
